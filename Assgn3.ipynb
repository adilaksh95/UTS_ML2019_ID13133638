{
  "nbformat": 4,
  "nbformat_minor": 0,
  "metadata": {
    "colab": {
      "name": "Untitled5.ipynb",
      "provenance": [],
      "collapsed_sections": [],
      "include_colab_link": true
    },
    "kernelspec": {
      "name": "python3",
      "display_name": "Python 3"
    }
  },
  "cells": [
    {
      "cell_type": "markdown",
      "metadata": {
        "id": "view-in-github",
        "colab_type": "text"
      },
      "source": [
        "<a href=\"https://colab.research.google.com/github/adilaksh95/UTS_ML2019_ID13133638/blob/master/Assgn3.ipynb\" target=\"_parent\"><img src=\"https://colab.research.google.com/assets/colab-badge.svg\" alt=\"Open In Colab\"/></a>"
      ]
    },
    {
      "cell_type": "markdown",
      "metadata": {
        "id": "7fSFDjM836lQ",
        "colab_type": "text"
      },
      "source": [
        "#32513 Advanced Data Analytics Algorithms\n",
        "\n",
        "\n",
        "\n",
        "##Assignment 3: Pitch and Plan for Solving a Domain Problem\n",
        "\n",
        "\n"
      ]
    },
    {
      "cell_type": "markdown",
      "metadata": {
        "id": "rBvSbhnh4aUv",
        "colab_type": "text"
      },
      "source": [
        "\n",
        "#Project Title:\n",
        "##Injury forecaster in Soccer\n",
        "\n",
        "\n",
        "\n",
        "\n",
        "###By Aditya Bamidipati Lakshmana Murthy \n",
        "###Student ID: 13133638\n"
      ]
    },
    {
      "cell_type": "markdown",
      "metadata": {
        "id": "AzkkxDZF4ymJ",
        "colab_type": "text"
      },
      "source": [
        "##Aims: \n",
        "The aim of the project is to evaluate a player for injury risks and forecast its occurrence using a multi-dimensional model approach, which uses GPS tracking data and machine learning for the forecasting.\n",
        "\n",
        "Two distinct concepts are used in the project:\n",
        "\n",
        "Machine learning is a concept derived from AI. It is the use of a mathematical model that trains on a set of data (historical or real time) to find a pattern, predict a certain result or perform analysis to obtain critical information. The model is trained to perform a task but without explicit instructions. \n",
        "\n",
        "So far in the existing literature the approach to forecasting injuries has been single-dimensional. Methods usually account for only a single variable at a time to check injury risks but ignore the complex and comprehensive studies that can be undertaken on the data, for better evaluations. Using a feature such as average distance covered will be meaningless if it isn’t correlated with another feature like number of competitions the player has featured or the number of minutes the player was on the field. The combination of features and factors create a complex dimension that will effectively provide more background information for better decision making. This is called a multi-dimensional approach.\n",
        "\n",
        "The directives of the aims are:\n",
        "1.\tGathering real time features from GPS tracking and player training/match statistics.\n",
        "2.\tCreating a training data set with individual players’ vector features and creation of a binary label to populate the possibility of injury.\n",
        "3.\tConstruction and validation of the model, training the data using appropriate classifiers.\n",
        "4.\tComparison of classifiers and implementation of best methods.\n",
        "\n"
      ]
    },
    {
      "cell_type": "markdown",
      "metadata": {
        "id": "nq86QLmT5Dff",
        "colab_type": "text"
      },
      "source": [
        "##Background\n",
        "\n",
        "There are a few ongoing researches and implemented methods currently in use. Most sports teams have their own analytics department to keep track of injuries and other professional matters but never has it being efficient or trusted enough to be in widespread use. One of those methods popular in training professional athletes is the functional movement screen.\n",
        " The (FMS™) as stated in (Hammes et al. 2016) says that it is a tool aimed at assessing the fundamental and functional movements of players which are then used to identify injury risks. There are a set of seven exercises that need to be performed and scored on a scale of 0-3 where 0 means player completed the test without any pain and anything upwards till 3 is given when the player is unable to do the test at all or with pain. Univariate analysis and statistical models were used to analyse the potential risk factors independently and work on a threshold cut-off for the data respectively. The univariate analysis did not provide any significance statistically and the threshold cut-off showed overall score of <10 was linked to high risk players. The algorithm and process holds no discriminatory power when the scores are high. Many factors for prediction were not considered, the universal tests are limited to any one sport and thus cannot be fine-tuned, predictions cannot be made successfully using the data but the injuries occurring can be analysed. \n",
        "The other upcoming field is that of artificial intelligence. Though not as simple, it is mentioned that artificial neural networks are one of the most promising methods for predictive analysis in the field of sports. The use of historical data of players and any number of features within the domain make it an exciting prospect for the future. With the advent of self-learning algorithms, fine-tuned processes become easily accessible based on the sport and team in question. Due to the complex relationships between inputs and outputs, this method is optimal for prediction and pattern recognition. Further, apart from ANN, the next widely used classifier were the decision trees which amounted to 17% of research conducted in this area (Claudino et al .2019).\n",
        "As described in (Rossi et al. 2018), we look into the use of decision tree classifier and improvements on the existing approach to make it into a much comprehensive and complete product that can be used amongst various soccer teams over the world. Using the concept of internet of things, we can analyse and collect player data during training, matches and other medical areas. Combining these data sources and training the model based on it, will give us a better result than preciously determined. \n"
      ]
    },
    {
      "cell_type": "markdown",
      "metadata": {
        "id": "656yuLT15It_",
        "colab_type": "text"
      },
      "source": [
        "##Research Project\n",
        "\n",
        "Significance and its need:    \n",
        "Consider a sports team as a company working on a budget and it pays its employees, the players, for their contribution to the performance of the team as a whole. Now, the health and wellbeing of the employees is important for the long-term benefits of the team. The most significant worry that plagues the team would be the constant harassment of injuries to its players. This in effect creates an imbalance and morale shift which affects the team’s performance. Unavailable players need to be payed and their rehabilitation and medical expenses have to be covered by the employer. This results in a loss to the company/team. Three things need to be noted, the mental wellbeing which affects the players temporarily and in the long-term by disrupting their form and confidence in their physical abilities due to the injuries. The next is the gruelling rehabilitation process, that needs time and money, making it an expensive program. Lastly, the loss due to player absence on the team’s performance and individual earnings on popularities missed due to the same reason. A nice statistic to put this in perspective is, the Spanish first division recorded a loss of 188 million euros in a single season due to injuries to players and their medical costs and 16% of seasonal player absences were due to injuries. The needs for a forecasting system arises to address these problems mentioned above. The root cause is player overworking and mismanagement. The use of technology to assess and record the progress of injury prone players, as well as the team as a whole will give us enough information, coupled with historical data of each player, we can create a model to predict when a player hits critical zone. This will create a successive improvement in the players’ mental fortitude, plug the losses due to absences and improve team morale and finally reduce the overall monetary cost caused by injuries. \n"
      ]
    }
  ]
}