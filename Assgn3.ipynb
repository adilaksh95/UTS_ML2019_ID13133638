{
  "nbformat": 4,
  "nbformat_minor": 0,
  "metadata": {
    "colab": {
      "name": "Untitled5.ipynb",
      "provenance": [],
      "include_colab_link": true
    },
    "kernelspec": {
      "name": "python3",
      "display_name": "Python 3"
    }
  },
  "cells": [
    {
      "cell_type": "markdown",
      "metadata": {
        "id": "view-in-github",
        "colab_type": "text"
      },
      "source": [
        "<a href=\"https://colab.research.google.com/github/adilaksh95/UTS_ML2019_ID13133638/blob/master/Assgn3.ipynb\" target=\"_parent\"><img src=\"https://colab.research.google.com/assets/colab-badge.svg\" alt=\"Open In Colab\"/></a>"
      ]
    },
    {
      "cell_type": "markdown",
      "metadata": {
        "id": "7fSFDjM836lQ",
        "colab_type": "text"
      },
      "source": [
        "#32513 Advanced Data Analytics Algorithms\n",
        "\n",
        "\n",
        "\n",
        "##Assignment 3: Pitch and Plan for Solving a Domain Problem\n",
        "\n",
        "\n"
      ]
    },
    {
      "cell_type": "markdown",
      "metadata": {
        "id": "rBvSbhnh4aUv",
        "colab_type": "text"
      },
      "source": [
        "\n",
        "#Project Title:\n",
        "##Injury forecaster in Soccer\n",
        "\n",
        "\n",
        "\n",
        "\n",
        "###By Aditya Bamidipati Lakshmana Murthy \n",
        "###Student ID: 13133638\n"
      ]
    }
  ]
}