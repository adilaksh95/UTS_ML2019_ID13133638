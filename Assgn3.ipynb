{
  "nbformat": 4,
  "nbformat_minor": 0,
  "metadata": {
    "colab": {
      "name": "Untitled5.ipynb",
      "provenance": [],
      "collapsed_sections": [],
      "include_colab_link": true
    },
    "kernelspec": {
      "name": "python3",
      "display_name": "Python 3"
    }
  },
  "cells": [
    {
      "cell_type": "markdown",
      "metadata": {
        "id": "view-in-github",
        "colab_type": "text"
      },
      "source": [
        "<a href=\"https://colab.research.google.com/github/adilaksh95/UTS_ML2019_ID13133638/blob/master/Assgn3.ipynb\" target=\"_parent\"><img src=\"https://colab.research.google.com/assets/colab-badge.svg\" alt=\"Open In Colab\"/></a>"
      ]
    },
    {
      "cell_type": "markdown",
      "metadata": {
        "id": "7fSFDjM836lQ",
        "colab_type": "text"
      },
      "source": [
        "#32513 Advanced Data Analytics Algorithms\n",
        "\n",
        "\n",
        "\n",
        "##Assignment 3: Pitch and Plan for Solving a Domain Problem\n",
        "\n",
        "\n"
      ]
    },
    {
      "cell_type": "markdown",
      "metadata": {
        "id": "rBvSbhnh4aUv",
        "colab_type": "text"
      },
      "source": [
        "\n",
        "#Project Title:\n",
        "##Injury forecaster in Soccer\n",
        "\n",
        "\n",
        "\n",
        "\n",
        "###By Aditya Bamidipati Lakshmana Murthy \n",
        "###Student ID: 13133638\n"
      ]
    },
    {
      "cell_type": "markdown",
      "metadata": {
        "id": "qg05TrXy5oQN",
        "colab_type": "text"
      },
      "source": [
        "https://github.com/adilaksh95/UTS_ML2019_ID13133638"
      ]
    },
    {
      "cell_type": "markdown",
      "metadata": {
        "id": "AzkkxDZF4ymJ",
        "colab_type": "text"
      },
      "source": [
        "##Aims: \n",
        "The aim of the project is to evaluate a player for injury risks and forecast its occurrence using a multi-dimensional model approach, which uses GPS tracking data and machine learning for the forecasting.\n",
        "\n",
        "Two distinct concepts are used in the project:\n",
        "\n",
        "Machine learning is a concept derived from AI. It is the use of a mathematical model that trains on a set of data (historical or real time) to find a pattern, predict a certain result or perform analysis to obtain critical information. The model is trained to perform a task but without explicit instructions. \n",
        "\n",
        "So far in the existing literature the approach to forecasting injuries has been single-dimensional. Methods usually account for only a single variable at a time to check injury risks but ignore the complex and comprehensive studies that can be undertaken on the data, for better evaluations. Using a feature such as average distance covered will be meaningless if it isn’t correlated with another feature like number of competitions the player has featured or the number of minutes the player was on the field. The combination of features and factors create a complex dimension that will effectively provide more background information for better decision making. This is called a multi-dimensional approach.\n",
        "\n",
        "The directives of the aims are:\n",
        "1.\tGathering real time features from GPS tracking and player training/match statistics.\n",
        "2.\tCreating a training data set with individual players’ vector features and creation of a binary label to populate the possibility of injury.\n",
        "3.\tConstruction and validation of the model, training the data using appropriate classifiers.\n",
        "4.\tComparison of classifiers and implementation of best methods.\n",
        "\n"
      ]
    },
    {
      "cell_type": "markdown",
      "metadata": {
        "id": "nq86QLmT5Dff",
        "colab_type": "text"
      },
      "source": [
        "##Background\n",
        "\n",
        "There are a few ongoing researches and implemented methods currently in use. Most sports teams have their own analytics department to keep track of injuries and other professional matters but never has it being efficient or trusted enough to be in widespread use. One of those methods popular in training professional athletes is the functional movement screen.\n",
        " The (FMS™) as stated in (Hammes et al. 2016) says that it is a tool aimed at assessing the fundamental and functional movements of players which are then used to identify injury risks. There are a set of seven exercises that need to be performed and scored on a scale of 0-3 where 0 means player completed the test without any pain and anything upwards till 3 is given when the player is unable to do the test at all or with pain. Univariate analysis and statistical models were used to analyse the potential risk factors independently and work on a threshold cut-off for the data respectively. The univariate analysis did not provide any significance statistically and the threshold cut-off showed overall score of <10 was linked to high risk players. The algorithm and process holds no discriminatory power when the scores are high. Many factors for prediction were not considered, the universal tests are limited to any one sport and thus cannot be fine-tuned, predictions cannot be made successfully using the data but the injuries occurring can be analysed. \n",
        "The other upcoming field is that of artificial intelligence. Though not as simple, it is mentioned that artificial neural networks are one of the most promising methods for predictive analysis in the field of sports. The use of historical data of players and any number of features within the domain make it an exciting prospect for the future. With the advent of self-learning algorithms, fine-tuned processes become easily accessible based on the sport and team in question. Due to the complex relationships between inputs and outputs, this method is optimal for prediction and pattern recognition. Further, apart from ANN, the next widely used classifier were the decision trees which amounted to 17% of research conducted in this area (Claudino et al .2019).\n",
        "As described in (Rossi et al. 2018), we look into the use of decision tree classifier and improvements on the existing approach to make it into a much comprehensive and complete product that can be used amongst various soccer teams over the world. Using the concept of internet of things, we can analyse and collect player data during training, matches and other medical areas. Combining these data sources and training the model based on it, will give us a better result than preciously determined. \n"
      ]
    },
    {
      "cell_type": "markdown",
      "metadata": {
        "id": "656yuLT15It_",
        "colab_type": "text"
      },
      "source": [
        "#Research Project\n",
        "\n",
        "Significance and its need:    \n",
        "Consider a sports team as a company working on a budget and it pays its employees, the players, for their contribution to the performance of the team as a whole. Now, the health and wellbeing of the employees is important for the long-term benefits of the team. The most significant worry that plagues the team would be the constant harassment of injuries to its players. This in effect creates an imbalance and morale shift which affects the team’s performance. Unavailable players need to be payed and their rehabilitation and medical expenses have to be covered by the employer. This results in a loss to the company/team. Three things need to be noted, the mental wellbeing which affects the players temporarily and in the long-term by disrupting their form and confidence in their physical abilities due to the injuries. The next is the gruelling rehabilitation process, that needs time and money, making it an expensive program. Lastly, the loss due to player absence on the team’s performance and individual earnings on popularities missed due to the same reason. A nice statistic to put this in perspective is, the Spanish first division recorded a loss of 188 million euros in a single season due to injuries to players and their medical costs and 16% of seasonal player absences were due to injuries. The needs for a forecasting system arises to address these problems mentioned above. The root cause is player overworking and mismanagement. The use of technology to assess and record the progress of injury prone players, as well as the team as a whole will give us enough information, coupled with historical data of each player, we can create a model to predict when a player hits critical zone. This will create a successive improvement in the players’ mental fortitude, plug the losses due to absences and improve team morale and finally reduce the overall monetary cost caused by injuries. \n"
      ]
    },
    {
      "cell_type": "markdown",
      "metadata": {
        "id": "yoDcGTWE5r4d",
        "colab_type": "text"
      },
      "source": [
        "##Innovation/interesting aspects of the project:\n",
        "The need for forecasting was established in the previous section. The academic progress of such a forecasting system was stunted due to the limited methods of accessing certain physical test data. The foremost innovative contribution is from the field of IoT (Internet of Things). With the help of connectivity, we can monitor the players’ actions in training and matches, collect the data produced and use it for pattern recognition and prediction. These are called the electronic performance and tracking systems and uses a form of GPS to track player movements, heartbeat and other useful attributes (Rossi et al. 2018).\n",
        "We use multi-dimensional attributes to approach the assessment of injuries and better understand the patterns and complex variations lying underneath and reasoning behind the injuries. We use a combined 55 features and its relationship with each other is analysed to understand the context of the injuries and its occurrence. Further, we extend this fundamental approach to include psychological and physical stress and performance features from official games, transition this to envelop different teams and their player data, which will help develop the classifier to perform better.\n",
        "\n",
        "##Outline of project working in two phases\n",
        "\n",
        "###Phase one:\n",
        "\n",
        "Acquiring data\n",
        "A seasonal database with players needs to be created. The tracking information from every training session and game has to be recorded. The medical history and injury history of each player has to be added to the data base collection. Identify the features needed for the forecaster, that which plays into the overall context of the soccer scenario at the club.\n",
        "\n",
        "Construct the training dataset \n",
        "1.\tFeatures from the GPS tracking are extracted.\n",
        "2.\tTraining workload features are added.\n",
        "3.\tPersonal attributes of players are added.\n",
        "4.\tInjury features present and past are extracted.\n",
        "5.\tMonotonous features that have no inter-relationships are added.\n",
        "\n",
        "Using appropriate percentage of the main data, we use cross validation and recursive feature elimination methods to provide us with the most important features affecting the predictions, reduce dimensionality and overfitting. Oversample minority class using package from python ‘imblearn’ – (http://scikit-learn.org/imbalanced-learn). Then best features are contructed for the Train dataset for the tree classifier.\n",
        "\n",
        "###Phase two:\n",
        "\n",
        "Model Construction \n",
        "\n",
        "We cross-validate and perform the predictions with classifiers other than decision trees, such as random forest ensemble method and linear regression. All packages are based in python.\n",
        "1.\tDecision trees: https://scikit-learn.org/stable/modules/tree.html\n",
        "\n",
        "2.\tRandom Forests:\n",
        "https://scikit-learn.org/stable/modules/generated/sklearn.ensemble.RandomForestClassifier.html\n",
        "\n",
        "3.\tLinear Regression:\n",
        "https://scikit-learn.org/stable/modules/generated/sklearn.linear_model.LinearRegression.html\n",
        "\n",
        "We perform the necessary parameter optimization and fine tuning needed for the classifiers and load the training data to perform the modelling.    \n",
        "On remaining data, we perform two-fold cross validation and use ADASYN algorithm for oversampling and use an under-sampled fold on the classifier. We invert the two folds again and perform the same process to reduce validation redundancies (Rossi et al. 2018).\n",
        "\n",
        "Evaluation\n",
        "\n",
        "We use, precision, recall, AUC and F1-score for evaluating the model. Higher precision means the classifier is reliable. Higher recall enables the forecaster to detect more injuries.        \n",
        "For detecting the stability of the algorithm, we perform the cross-validation process numerous times for the prediction. The consistency in prediction will give us a better idea about the precision. \n",
        "We check the precision and recall of the classes predicting injuries and no injuries. The best method of them all is then used for the final product.\n"
      ]
    },
    {
      "cell_type": "markdown",
      "metadata": {
        "id": "bCNYuX-j56hP",
        "colab_type": "text"
      },
      "source": [
        "##Timeline of the project\n",
        "\n",
        "1.\tAnalysing the problem and creating necessary strategies to tackle it. \n",
        "2.\tPre-season games and training data collection for the model to be based on.\n",
        "3.\tLabelling the data for efficient recognition and modelling.\n",
        "4.\tSplitting the data according to the situation at hand.\n",
        "5.\tModelling the available data within the classifier decided upon and other comparative ones.\n",
        "6.\tEvaluating the classifier precision and recall. Along with other classifiers. \n",
        "7.\tDeploying the model and familiarising it within the various club hierarchies.\n",
        "8.\tPredicting the injuries in real time, using real time data.\n",
        "9.\tFeedback improvement with data collected all along the official season to improve the accuracy of the model.\n"
      ]
    },
    {
      "cell_type": "markdown",
      "metadata": {
        "id": "H8-Vq_s16LJ4",
        "colab_type": "text"
      },
      "source": [
        "![Timeline](https://drive.google.com/uc?id=174RwCPvj-Af1MVGU3ozv-0FaahKL3JLQ)\n"
      ]
    },
    {
      "cell_type": "markdown",
      "metadata": {
        "id": "GsdTo8f78hRi",
        "colab_type": "text"
      },
      "source": [
        "##Outcome and benefit to the investor\n",
        "\n",
        "The outcome is that the injury forecaster predicts the outcome of risks over the season based on the pre-season data. This will give us a 50% precision rate if we go by the methods prescribed in (Rossi et al. 2018). With more data being added, the precision will greatly increase. With its use, the club can reduce the number of injuries occurring to players drastically. The cost of maintaining the medical expenses will decrease, so will the rehabilitation expenses. According to (Rossi et.al 2018), there is a chance of reducing the injury costs, based on the strategies involved, to anywhere in the region of 40-75%     \n",
        "\n",
        "The project is a continuously improving process. In seven months, the project can be deployed in a testing capacity. With further additions of the season data, historical information can be provided to the model for improvements. The time saving nature will attract various teams to implement them within the season. There is no need to collect data over the season and then work on it for the next year. Saving time and money in the process. \n",
        "The other exciting part would be the accommodation of data from other teams, over different leagues and many players. This data will add more information to tune the algorithm and get better results for everyone. \n",
        "A combined nature effect will be more helpful for the clubs and also the investors have more outreach over the world and not centralized to any one club.\n",
        "It is overall, time saving, cost saving, more market penetration and constantly improving due to more data available. \n"
      ]
    },
    {
      "cell_type": "markdown",
      "metadata": {
        "id": "5rcq1xCj8nr8",
        "colab_type": "text"
      },
      "source": [
        "#Budget in AUD and Personnel\n",
        "![alt text](https://drive.google.com/uc?id=192jIdQfkadPR6Gr_6fLR4lr7nXGHXjJQ)\n",
        "\n",
        "The budget for the entire project will be upwards of 1.5 million AUD, considering no two people can do the same job effectively.\n",
        "  \n",
        "The project manager will be in charge of overlooking the entire process from the start to the end. He will be in charge of liaising between the club authorities and the investors.\n",
        "The Analyst is in-charge of analysing available data and visualizing it to provide the concept to the higher authorities. They collect data from the equipment uploaded to the servers and prepare it as per the project requirements. This is a continuous process, since data is incoming throughout the year. \n",
        "The data scientists, work constantly to find the best model or classifier and come up with new and efficient methods to solve the problem.\n",
        "Front end developers and testers, make sure the results are presentable in software format and the project features are easily accessed by third party users. Testers make sure the qualitative analysis of the software is upheld.\n",
        "Marketing and Maintenance team will market the product to the outside world, while the maintenance team looks after the complaints and feedback from users to be used by the higher chain of command.\n"
      ]
    },
    {
      "cell_type": "markdown",
      "metadata": {
        "id": "mRPQCNXX83tl",
        "colab_type": "text"
      },
      "source": [
        "##References\n",
        "\n",
        "1.\tRossi, A., Pappalardo, L., Cintia, P., Iaia, F.M., Fernàndez, J. & Medina, D. 2018, 'Effective injury forecasting in soccer with GPS training data and machine learning', PloS one, vol. 13, no. 7, p. e0201264.\n",
        "\n",
        "\n",
        "2.\tHammes, D., aus der Fünten, K., Bizzini, M. & Meyer, T. 2016, 'Injury prediction in veteran football players using the Functional Movement Screen™', Journal of Sports Sciences, vol. 34, no. 14, pp. 1371-9.\n",
        "\n",
        "3.\tClaudino, J.G., Capanema, D.d.O., de Souza, T.V., Serrão, J.C., Machado Pereira, A.C. & Nassis, G.P. 2019, 'Current Approaches to the Use of Artificial Intelligence for Injury Risk Assessment and Performance Prediction in Team Sports: a Systematic Review', Sports Medicine - Open, vol. 5, no. 1, p. 28.\n",
        "\n",
        "\n"
      ]
    },
    {
      "cell_type": "markdown",
      "metadata": {
        "id": "3hv4eP1p9PqP",
        "colab_type": "text"
      },
      "source": [
        "#Video Pitch\n",
        "\n",
        "https://www.youtube.com/watch?v=sRZbxZzdgMI&feature=youtu.be"
      ]
    }
  ]
}