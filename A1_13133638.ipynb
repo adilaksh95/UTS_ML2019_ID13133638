{
  "nbformat": 4,
  "nbformat_minor": 0,
  "metadata": {
    "colab": {
      "name": "A1_13133638.ipynb",
      "version": "0.3.2",
      "provenance": [],
      "include_colab_link": true
    },
    "kernelspec": {
      "name": "python3",
      "display_name": "Python 3"
    }
  },
  "cells": [
    {
      "cell_type": "markdown",
      "metadata": {
        "id": "view-in-github",
        "colab_type": "text"
      },
      "source": [
        "<a href=\"https://colab.research.google.com/github/adilaksh95/UTS_ML2019_ID13133638/blob/master/A1_13133638.ipynb\" target=\"_parent\"><img src=\"https://colab.research.google.com/assets/colab-badge.svg\" alt=\"Open In Colab\"/></a>"
      ]
    },
    {
      "cell_type": "markdown",
      "metadata": {
        "id": "vje0EyOKYFJ0",
        "colab_type": "text"
      },
      "source": [
        "Gitgub URL https://github.com/adilaksh95/UTS_ML2019_ID13133638/blob/master/A1_13133638.ipynb"
      ]
    },
    {
      "cell_type": "markdown",
      "metadata": {
        "id": "hX-Bcywrppx8",
        "colab_type": "text"
      },
      "source": [
        ""
      ]
    },
    {
      "cell_type": "markdown",
      "metadata": {
        "id": "MtFTXq0Xpsmw",
        "colab_type": "text"
      },
      "source": [
        "Literature review on Support Vector Networks by Corrina Cortes and Vladimir Vapnik\n",
        "\n",
        "# Introduction\n",
        "\n",
        "The support vector machine is a learning algorithm that uses binary classification to model the training data and then group new test data to either of the two groups created by the model. This is a linear classification, and there is a clear maximal margin dividing the two groups. For non-linear classification SVM's use a method called kernel trick, where the inputs are converted to high dimensional feature space and then a hyperplane constructed in that space.   "
      ]
    },
    {
      "cell_type": "markdown",
      "metadata": {
        "id": "0ObEaID1zTNm",
        "colab_type": "text"
      },
      "source": [
        ""
      ]
    },
    {
      "cell_type": "markdown",
      "metadata": {
        "id": "EqyZYqt-zS43",
        "colab_type": "text"
      },
      "source": [
        ""
      ]
    }
  ]
}