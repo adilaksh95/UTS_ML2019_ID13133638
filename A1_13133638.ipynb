{
  "nbformat": 4,
  "nbformat_minor": 0,
  "metadata": {
    "colab": {
      "name": "A1_13133638.ipynb",
      "version": "0.3.2",
      "provenance": [],
      "include_colab_link": true
    },
    "kernelspec": {
      "name": "python3",
      "display_name": "Python 3"
    }
  },
  "cells": [
    {
      "cell_type": "markdown",
      "metadata": {
        "id": "view-in-github",
        "colab_type": "text"
      },
      "source": [
        "<a href=\"https://colab.research.google.com/github/adilaksh95/UTS_ML2019_ID13133638/blob/master/A1_13133638.ipynb\" target=\"_parent\"><img src=\"https://colab.research.google.com/assets/colab-badge.svg\" alt=\"Open In Colab\"/></a>"
      ]
    },
    {
      "cell_type": "markdown",
      "metadata": {
        "id": "vje0EyOKYFJ0",
        "colab_type": "text"
      },
      "source": [
        "Gitgub URL https://github.com/adilaksh95/UTS_ML2019_ID13133638/blob/master/A1_13133638.ipynb"
      ]
    },
    {
      "cell_type": "markdown",
      "metadata": {
        "id": "hX-Bcywrppx8",
        "colab_type": "text"
      },
      "source": [
        ""
      ]
    },
    {
      "cell_type": "markdown",
      "metadata": {
        "id": "MtFTXq0Xpsmw",
        "colab_type": "text"
      },
      "source": [
        "Literature review on Support Vector Networks by Corrina Cortes and Vladimir Vapnik\n",
        "\n",
        "# Introduction\n",
        "\n",
        "The support vector machine is a learning algorithm that uses binary classification to model the training data and then group new test data to either of the two groups created by the model. This is a linear classification, and there is a clear maximal margin dividing the two groups. For non-linear classification SVM's use a method called kernel trick, where the inputs are converted to high dimensional feature space and then a hyperplane constructed in that space.   "
      ]
    },
    {
      "cell_type": "markdown",
      "metadata": {
        "id": "0ObEaID1zTNm",
        "colab_type": "text"
      },
      "source": [
        "# Content\n",
        "\n",
        "The paper talks about a new learning machine called support vector network, which can be used extensively for problems with two group classification. Further, it introduces a new idea of developing a non-linear solution for its training data that cannot be separated without errors in a linear hyperplane.\n",
        " \n",
        "The authors talk about three issues faced during learning. The first is finding the optimal hyperplane. For training data with precise bounds and separation, they can be linearly separated. The other case would be for non-separable data, and to do the same linear separation without errors is very difficult; hence, it becomes a quadratic programming problem. The authors further talk about escalation of the problem when the method fails to find a hyperplane of separation. This leads to constructing an incremental solution vector.\n",
        " \n",
        "In the case where the training dataset has vectors/points that cannot be separated without errors, we introduce a method called soft margin hyperplane. As such, in this scenario, for the sake of an efficient classification model, minimal error separation has to be considered. This construction has been approached in this paper by finding the solution of the dual quadratic programming problem.\n",
        " \n",
        "Once the data has been separated at the input stage, the data then has to be converted to a high dimensional space. As the stepwise problems in the input space are resolved, the finality is reached as the hyperplanes are constructed for the feature space. To this effect, a method of the convoluting the dot product for the feature space is used.\n",
        "The authors try to tackle the problem of creating the maximal margin hyperplane and represent it in the feature space through this paper and compare it with other classical algorithms.        \n"
      ]
    },
    {
      "cell_type": "markdown",
      "metadata": {
        "id": "EqyZYqt-zS43",
        "colab_type": "text"
      },
      "source": [
        ""
      ]
    },
    {
      "cell_type": "markdown",
      "metadata": {
        "id": "uzNfE-sN6CS0",
        "colab_type": "text"
      },
      "source": [
        ""
      ]
    }
  ]
}